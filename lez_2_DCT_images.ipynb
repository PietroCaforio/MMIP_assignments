{
 "cells": [
  {
   "cell_type": "code",
   "execution_count": 1,
   "metadata": {
    "id": "z4OrCm2aFXhE"
   },
   "outputs": [],
   "source": [
    "from skimage.io import imread\n",
    "import numpy as np\n",
    "from scipy.fft import dct, idct\n",
    "from matplotlib import pyplot as plt\n"
   ]
  },
  {
   "cell_type": "code",
   "execution_count": 2,
   "metadata": {
    "id": "VKVyjdHyIvBa"
   },
   "outputs": [],
   "source": [
    "rootfolder = './data/data'"
   ]
  },
  {
   "cell_type": "markdown",
   "metadata": {
    "id": "mU_L6V-El9r7"
   },
   "source": [
    "# 2D-DCT\n",
    "The goal of this section is to define and use the dictionary representing the 2D-DCT.\n",
    "\n",
    "Let $s$ be a $p\\times p$ patch extract from an image. We can see $s$ as a vector of dimension $M=p^2$. We can move from one representation to the other one through a `reshape` operation.\n"
   ]
  },
  {
   "cell_type": "markdown",
   "metadata": {
    "id": "7j9pcXTvFl_h"
   },
   "source": [
    "The following code defines two functions: `dct2` and `idct2`. The `dct2` function computes the coefficient $x\\in\\mathbb{R}^M$ of a patch $s\\in\\mathbb{R}^M$, while the `idct2` is the inverse function:\n",
    "$$\n",
    "x = \\text{dct2}(s) = D^Ts, \\qquad s = \\text{idct2}(x) = Dx\n",
    "$$\n",
    "\n",
    "NB: here $D$ is *not* the 1D-DCT matrix."
   ]
  },
  {
   "cell_type": "code",
   "execution_count": 3,
   "metadata": {
    "id": "u7PgrQa4Fkln"
   },
   "outputs": [],
   "source": [
    "def dct2(s):\n",
    "    return dct(dct(s.T, norm='ortho').T, norm='ortho')\n",
    "\n",
    "\n",
    "def idct2(x):\n",
    "    return idct(idct(x.T, norm='ortho').T, norm='ortho')"
   ]
  },
  {
   "cell_type": "markdown",
   "metadata": {
    "id": "-NB1-MvmFsot"
   },
   "source": [
    "Useful function for plot the 2D DCT dictionary"
   ]
  },
  {
   "cell_type": "code",
   "execution_count": 4,
   "metadata": {
    "id": "Rey7kIlUF22r"
   },
   "outputs": [],
   "source": [
    "def get_dictionary_img(D):\n",
    "    M = D.shape[0]\n",
    "    p = int(round(np.sqrt(M)))\n",
    "    bound = 2\n",
    "    img = np.ones((p*p+bound*(p-1), p*p+bound*(p-1)))\n",
    "    for i in range(M):\n",
    "        m = np.mod(i, p)\n",
    "        n = int((i-m)/p)\n",
    "        m = m * p + bound * m\n",
    "        n = n * p + bound * n\n",
    "        atom = D[:, i].reshape((p, p))\n",
    "        if atom.min() < atom.max():\n",
    "            atom = (atom - atom.min()) / (atom.max() - atom.min())\n",
    "        img[m: m + p, n: n + p] = atom\n",
    "\n",
    "    return img"
   ]
  },
  {
   "cell_type": "markdown",
   "metadata": {
    "id": "XF0xLVZyGCBc"
   },
   "source": [
    "Set the patch size"
   ]
  },
  {
   "cell_type": "code",
   "execution_count": 5,
   "metadata": {
    "id": "JZXPMFW2F-W1"
   },
   "outputs": [],
   "source": [
    "\n",
    "p = 8 # patch size\n",
    "M = p ** 2 # number of elements in the patch\n"
   ]
  },
  {
   "cell_type": "markdown",
   "metadata": {
    "id": "rrzlM4BoGDe7"
   },
   "source": [
    "Load the image and extract a patch"
   ]
  },
  {
   "cell_type": "code",
   "execution_count": 25,
   "metadata": {
    "id": "eDlgExOEGFbY"
   },
   "outputs": [
    {
     "name": "stdout",
     "output_type": "stream",
     "text": [
      "(256, 256)\n",
      "(8, 8)\n"
     ]
    },
    {
     "data": {
      "text/plain": [
       "<matplotlib.image.AxesImage at 0x24e6b58a340>"
      ]
     },
     "execution_count": 25,
     "metadata": {},
     "output_type": "execute_result"
    },
    {
     "data": {
      "image/png": "[encoded data removed]",
      "text/plain": [
       "<Figure size 640x480 with 1 Axes>"
      ]
     },
     "metadata": {},
     "output_type": "display_data"
    }
   ],
   "source": [
    "img = imread(f'{rootfolder}/cameraman.png') / 255 # bring the image in [0,1] range\n",
    "\n",
    "print(img.shape)\n",
    "# extract a patch from the image\n",
    "s_block = img[128:128+p,128:128+p]\n",
    "print(s_block.shape)\n",
    "# unroll the patch\n",
    "#s = s_block.ravel()\n",
    "\n",
    "# show the patch\n",
    "plt.imshow(s_block, cmap='gray')"
   ]
  },
  {
   "cell_type": "markdown",
   "metadata": {
    "id": "j17Olxp7GKIg"
   },
   "source": [
    "## Compute the 2D DCT matrix (M x M)\n",
    "\n",
    "To build the matrix corresponding to the 2D DCT we can use the `idct2` function."
   ]
  },
  {
   "cell_type": "code",
   "execution_count": 59,
   "metadata": {
    "id": "qyxsDk3cGPMn"
   },
   "outputs": [],
   "source": [
    "D = np.zeros((M, M))\n",
    "cnt = 0\n",
    "for i in range(p):\n",
    "    for j in range(p):\n",
    "        x = np.zeros((p, p))\n",
    "        x[i, j] = 1 \n",
    "        D[:, cnt] = idct2(x).flatten()\n",
    "        cnt = cnt + 1"
   ]
  },
  {
   "cell_type": "markdown",
   "metadata": {
    "id": "tsbniVYnG6HX"
   },
   "source": [
    "Verify that D is orthonormal"
   ]
  },
  {
   "cell_type": "code",
   "execution_count": 62,
   "metadata": {
    "id": "lAgZ_f4BG7bC"
   },
   "outputs": [
    {
     "name": "stdout",
     "output_type": "stream",
     "text": [
      "DCT dictionary is orthogonal: True\n"
     ]
    }
   ],
   "source": [
    "product = np.matmul(D,D.T)\n",
    "np.fill_diagonal(product,0)\n",
    "is_D_orth = False if (np.abs(product) > 1e-10).any() else True\n",
    "print(f'DCT dictionary is orthogonal: {is_D_orth}')"
   ]
  },
  {
   "cell_type": "markdown",
   "metadata": {
    "id": "7ma5IrCMHCYn"
   },
   "source": [
    "All the atoms in D can be seen as patch. Let's plot them!"
   ]
  },
  {
   "cell_type": "code",
   "execution_count": 63,
   "metadata": {
    "id": "KTpA734xHDw8"
   },
   "outputs": [
    {
     "data": {
      "text/plain": [
       "<matplotlib.image.AxesImage at 0x24e6d85be50>"
      ]
     },
     "execution_count": 63,
     "metadata": {},
     "output_type": "execute_result"
    },
    {
     "data": {
      "image/png": "[encoded data removed]",
      "text/plain": [
       "<Figure size 640x480 with 1 Axes>"
      ]
     },
     "metadata": {},
     "output_type": "display_data"
    }
   ],
   "source": [
    "D_img = get_dictionary_img(D)\n",
    "plt.imshow(D_img, cmap='gray')"
   ]
  },
  {
   "cell_type": "markdown",
   "metadata": {
    "id": "iu37hfMSHISz"
   },
   "source": [
    "Compute the representation w.r.t. the 2D DCT matrix"
   ]
  },
  {
   "cell_type": "code",
   "execution_count": 64,
   "metadata": {
    "id": "ico3Z1SLHJO_"
   },
   "outputs": [],
   "source": [
    "x = dct2(s_block)"
   ]
  },
  {
   "cell_type": "markdown",
   "metadata": {
    "id": "6BsPMB1LHQ7P"
   },
   "source": [
    "## Separable 2D DCT\n",
    "\n",
    "Build the 1D DCT matrix"
   ]
  },
  {
   "cell_type": "code",
   "execution_count": null,
   "metadata": {
    "id": "FNmSNm-IHRuU"
   },
   "outputs": [],
   "source": [
    "D1 = np.zeros((p, p))\n",
    "for i in range(p):\n",
    "    D1[:, i] = #"
   ]
  },
  {
   "cell_type": "markdown",
   "metadata": {
    "id": "iM5FvZDhHXmK"
   },
   "source": [
    "Compute the dct2 exploiting the separability. In this case do not unroll the patch: the coefficients will be organized in a $p\\times p$ matrix."
   ]
  },
  {
   "cell_type": "code",
   "execution_count": null,
   "metadata": {
    "id": "6jpeT0MIHVxS"
   },
   "outputs": [],
   "source": [
    "x_block =  #"
   ]
  },
  {
   "cell_type": "markdown",
   "metadata": {
    "id": "a-GfRqMVHZfQ"
   },
   "source": [
    "Check if the coefficient computed using the two methods are equal"
   ]
  },
  {
   "cell_type": "code",
   "execution_count": null,
   "metadata": {
    "id": "VbPKW0wOHbRZ"
   },
   "outputs": [],
   "source": [
    "is_coeff_equal = np.all(np.abs(x_block.reshape(-1) - x) < 1e-10)\n",
    "print(f'The two vectors of coefficients are the same: {is_coeff_equal}')"
   ]
  },
  {
   "cell_type": "markdown",
   "metadata": {
    "id": "UWQ5MHmFHx7b"
   },
   "source": [
    "# JPEG Compression\n",
    "\n",
    "The goal of this section is to implement the compression algorithm at the core of JPEG compression.\n",
    "\n",
    "The idea is to divide the image in $8\\times 8$ non overlapping patches and to compress each patch separately. More precisely, given a patch $s$ and its coefficient vector $x$ w.r.t. the DCT basis, we keep only the coefficients having a magnitude larger than a compression threshold $\\tau$. In practice, a larger $\\tau$ yields a greater compression ratio, where we define the compression ratio as\n",
    "$$\n",
    "\\text{Comp Ratio} = 1 - \\frac{\\#\\text{Non zero coefficients}}{\\#\\text{pixel in the image}}\n",
    "$$\n",
    "\n",
    "The larger the compression ratio, the smaller the amount of memory we need to store the compressed image.\n",
    "\n",
    "Another figure of merit we use to evaluate the compression is the PSNR:\n",
    "$$\n",
    "\\text{PSNR} = 10\\log_{10}\\frac{1}{\\text{MSE}(Y, \\widehat Y)}\n",
    "$$\n",
    "where $y$ is the original, uncompressed image, $\\widehat y$ is the compressed image, and $\\text{MSE}$ is the Mean Squared Error.\n"
   ]
  },
  {
   "cell_type": "code",
   "execution_count": null,
   "metadata": {
    "id": "xLJLUAupH6cQ"
   },
   "outputs": [],
   "source": [
    "# Set the threshold for the compression\n",
    "threshold = 0.5"
   ]
  },
  {
   "cell_type": "markdown",
   "metadata": {
    "id": "nIhmjE_DICmY"
   },
   "source": [
    "Initialize the compressed image and the number of nonzero coefficients"
   ]
  },
  {
   "cell_type": "code",
   "execution_count": null,
   "metadata": {
    "id": "nUdKDsywH8gH"
   },
   "outputs": [],
   "source": [
    "img_comp = np.zeros_like(img)\n",
    "nnz_coeff = 0"
   ]
  },
  {
   "cell_type": "markdown",
   "metadata": {
    "id": "Qukv5IiSIIl-"
   },
   "source": [
    "Process the image patchwize"
   ]
  },
  {
   "cell_type": "code",
   "execution_count": null,
   "metadata": {
    "id": "OO1yE_cdIJuX"
   },
   "outputs": [],
   "source": [
    "for i in range(0, img.shape[0], p):\n",
    "    for j in range(0, img.shape[1], p):\n",
    "        # extract the patch\n",
    "        s =\n",
    "\n",
    "        # compute the representation w.r.t. the 2D DCT dictionary\n",
    "        x =\n",
    "\n",
    "        # perform the hard thresholding (do not perform HT on the DC!)\n",
    "        x_HT =\n",
    "\n",
    "        # reconstruct the patch\n",
    "        s_hat =\n",
    "\n",
    "        # put the compressed patch into the compressed image\n",
    "        img_comp[i:i+p, j:j+p] =\n",
    "\n",
    "        # update the total number of nonzero coefficient\n",
    "        nnz_coeff ="
   ]
  },
  {
   "cell_type": "markdown",
   "metadata": {
    "id": "Iopyq2_9IQ9U"
   },
   "source": [
    "Compute the PSNR"
   ]
  },
  {
   "cell_type": "code",
   "execution_count": null,
   "metadata": {
    "id": "AHwgpcyeISpF"
   },
   "outputs": [],
   "source": [
    "psnr ="
   ]
  },
  {
   "cell_type": "markdown",
   "metadata": {
    "id": "Gm3v0fggIU0M"
   },
   "source": [
    "Compute the compression ratio"
   ]
  },
  {
   "cell_type": "code",
   "execution_count": null,
   "metadata": {
    "id": "SaxmgSenIT48"
   },
   "outputs": [],
   "source": [
    "comp_ratio ="
   ]
  },
  {
   "cell_type": "markdown",
   "metadata": {
    "id": "_XfnQCIjIY0E"
   },
   "source": [
    "Show the original image and the compressed one:"
   ]
  },
  {
   "cell_type": "code",
   "execution_count": null,
   "metadata": {
    "id": "aq0URCoaIXcJ"
   },
   "outputs": [],
   "source": [
    "fig, ax = plt.subplots(1, 2, figsize=(16, 12))\n",
    "ax[0].imshow(img, cmap='gray')\n",
    "ax[0].set_title('Original Image')\n",
    "\n",
    "ax[1].imshow(img_comp, cmap='gray')\n",
    "ax[1].set_title(f'Compressed Image,\\nPSNR = {psnr:.2f}, compression_ratio = {comp_ratio:.2f}')\n"
   ]
  }
 ],
 "metadata": {
  "colab": {
   "provenance": []
  },
  "kernelspec": {
   "display_name": "base",
   "language": "python",
   "name": "python3"
  },
  "language_info": {
   "codemirror_mode": {
    "name": "ipython",
    "version": 3
   },
   "file_extension": ".py",
   "mimetype": "text/x-python",
   "name": "python",
   "nbconvert_exporter": "python",
   "pygments_lexer": "ipython3",
   "version": "3.9.13"
  }
 },
 "nbformat": 4,
 "nbformat_minor": 0
}
